{
 "cells": [
  {
   "cell_type": "code",
   "execution_count": null,
   "metadata": {},
   "outputs": [],
   "source": [
    "import os\n",
    "import numpy as np\n",
    "import pandas as pd\n",
    "from sklearn.neighbors import NearestNeighbors\n",
    "from sklearn.base import BaseEstimator\n",
    "from numba import jit"
   ]
  },
  {
   "cell_type": "code",
   "execution_count": null,
   "metadata": {},
   "outputs": [],
   "source": [
    "# INFLO class\n",
    "class INFLO(BaseEstimator):\n",
    "    def __init__(self, contamination=None):\n",
    "        \"\"\"\n",
    "        Args:\n",
    "            - contamination: expected fraction of the dataset which are outliers.\n",
    "        \"\"\"\n",
    "        self.contamination_ = contamination\n",
    "        assert (contamination > 0) & (contamination <= 0.5), \"Contamination must be between 0 and 0.5\"\n",
    "\n",
    "    def fit_transform(self, data=None, k=None):\n",
    "        self.k_ = k\n",
    "        assert isinstance(k, int), \"k must be an integer\"\n",
    "        assert (k<len(data)) & (k>0), \"k must be smaller than the number of observations AND greater than 0.\"\n",
    "        n_row = len(data)\n",
    "        # Initial K-Nearest Neighbors search\n",
    "        knn_model = NearestNeighbors(n_neighbors=self.k_)\n",
    "        knn_model.fit(data)\n",
    "        knn_dist_obj, knn_dist_indices = knn_model.kneighbors(data)\n",
    "        obj_density = np.apply_along_axis(lambda x: 1 / np.max(x), 1, knn_dist_obj)\n",
    "\n",
    "        # Reverse Nearest Neighbors (RNNs) search and count\n",
    "        RNN = np.zeros((n_row, 1), dtype=int)\n",
    "        avg_density_influ_space = np.zeros((n_row, 1), dtype=int)\n",
    "        INFLO_list = []\n",
    "\n",
    "        # Main loop - \n",
    "        for i in range(n_row):\n",
    "            influ_space = np.array(np.argwhere(knn_dist_indices==i)[1:, 0])\n",
    "            if len(influ_space) == 0:\n",
    "                RNN[i] = k\n",
    "                influ_space = knn_dist_indices[i, 1:]\n",
    "            else:\n",
    "                RNN[i] = len(influ_space)\n",
    "                influ_space = np.unique(np.append(influ_space, knn_dist_indices[i, 1:]))\n",
    "            RNN[i] = len(influ_space)\n",
    "            \n",
    "            sum_RNN_obs_density = 0\n",
    "            for j in range(len(influ_space)):\n",
    "                rnn_obs_density = obj_density[influ_space[j]]\n",
    "                sum_RNN_obs_density += rnn_obs_density\n",
    "            avg_density_influ_space = sum_RNN_obs_density / RNN[i]\n",
    "            INFLO_ratio = avg_density_influ_space / obj_density[i]\n",
    "            INFLO_list.append(INFLO_ratio)\n",
    "        self.INFLO_results_ = np.array(INFLO_list).reshape(-1,)\n",
    "\n",
    "        # Picking outliers - selecting top-n observations with highest INFLO based on contamination\n",
    "        top_n = int(self.contamination_ * len(data))\n",
    "        top_n_indices = self.INFLO_results_.argsort()[-top_n:][::-1]\n",
    "        anomaly_detection_results = np.zeros((self.INFLO_results_.shape[0],))\n",
    "        for index, item in enumerate(self.INFLO_results_):\n",
    "            if index in top_n_indices:\n",
    "                anomaly_detection_results[index] = int(1)\n",
    "            else:\n",
    "                anomaly_detection_results[index] = int(0)\n",
    "        return anomaly_detection_results"
   ]
  },
  {
   "cell_type": "code",
   "execution_count": null,
   "metadata": {},
   "outputs": [],
   "source": [
    "np.random.seed(42)\n",
    "random_data = np.random.random_sample((1000,5))\n",
    "print(random_data)"
   ]
  },
  {
   "cell_type": "code",
   "execution_count": null,
   "metadata": {},
   "outputs": [],
   "source": [
    "len(random_data)"
   ]
  },
  {
   "cell_type": "code",
   "execution_count": null,
   "metadata": {},
   "outputs": [],
   "source": [
    "inflo = INFLO(0.005)\n",
    "results = inflo.fit_transform(random_data, 3)"
   ]
  },
  {
   "cell_type": "code",
   "execution_count": null,
   "metadata": {},
   "outputs": [],
   "source": []
  },
  {
   "cell_type": "code",
   "execution_count": null,
   "metadata": {},
   "outputs": [],
   "source": [
    "import pandas as pd\n",
    "pd.Series(results).value_counts()"
   ]
  }
 ],
 "metadata": {
  "kernelspec": {
   "display_name": "Python 3",
   "language": "python",
   "name": "python3"
  },
  "language_info": {
   "codemirror_mode": {
    "name": "ipython",
    "version": 3
   },
   "file_extension": ".py",
   "mimetype": "text/x-python",
   "name": "python",
   "nbconvert_exporter": "python",
   "pygments_lexer": "ipython3",
   "version": "3.8.5-final"
  }
 },
 "nbformat": 4,
 "nbformat_minor": 4
}