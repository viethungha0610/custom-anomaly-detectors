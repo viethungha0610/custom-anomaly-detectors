{
 "cells": [
  {
   "cell_type": "code",
   "execution_count": 1,
   "metadata": {},
   "outputs": [],
   "source": [
    "# Importing core libraries\n",
    "import numpy as np\n",
    "import pandas as pd\n",
    "import os\n",
    "from sklearn.metrics import recall_score, precision_score, confusion_matrix\n",
    "from sklearn.neighbors import LocalOutlierFactor\n",
    "from sklearn.ensemble import IsolationForest\n",
    "\n",
    "# Importing custom estimators\n",
    "from CustomEstimator import MultivariateGaussian, MultivariateTDistribution"
   ]
  },
  {
   "cell_type": "code",
   "execution_count": 14,
   "metadata": {},
   "outputs": [
    {
     "name": "stdout",
     "output_type": "stream",
     "text": [
      "Normal only data shape:  (284315, 31)\n",
      "Fraud only data shape:  (492, 31)\n",
      "Train data shape:  (227452, 30)\n",
      "Dev data shape:  (28677, 30)\n",
      "Test data shape:  (28678, 30)\n"
     ]
    }
   ],
   "source": [
    "# Importing the Credit Card Fraud dataset\n",
    "data = pd.read_csv('creditcard.csv')\n",
    "y_data = data.copy()['Class'].values\n",
    "original_data = data.copy()\n",
    "\n",
    "# Clean data set\n",
    "normal_only_data = data[data['Class']==0]\n",
    "print('Normal only data shape: ', normal_only_data.shape)\n",
    "# Fraud data set\n",
    "fraud_only_data = data[data['Class']==1]\n",
    "print('Fraud only data shape: ', fraud_only_data.shape)\n",
    "\n",
    "# Shuffling the data\n",
    "normal_only_data = normal_only_data.sample(frac=1, random_state=42)\n",
    "fraud_only_data = fraud_only_data.sample(frac=1, random_state=42)\n",
    "\n",
    "# 80/10/10 data split for normal data\n",
    "train_set, dev_set, test_set = np.split(normal_only_data, [int(0.8*len(normal_only_data)), int(0.9*len(normal_only_data))])\n",
    "train_set = train_set.drop('Class', axis=1)\n",
    "\n",
    "# 50/50 data split for fraud data\n",
    "fraud_set_1, fraud_set_2 = np.split(fraud_only_data, [int(0.5*len(fraud_only_data))])\n",
    "\n",
    "# Appending fraud data to dev and test set\n",
    "dev_set = dev_set.append(fraud_set_1)\n",
    "y_dev_set = dev_set['Class']\n",
    "dev_set = dev_set.drop('Class', axis=1)\n",
    "test_set = test_set.append(fraud_set_2)\n",
    "y_test_set = test_set['Class']\n",
    "test_set = test_set.drop('Class', axis=1)\n",
    "\n",
    "# Showing shapes\n",
    "for name, data in zip(['Train data shape: ', 'Dev data shape: ', 'Test data shape: '],[train_set, dev_set, test_set]):\n",
    "    print(name, data.shape)"
   ]
  },
  {
   "cell_type": "code",
   "execution_count": null,
   "metadata": {},
   "outputs": [],
   "source": [
    "# Training Multivariate Gaussian Anomaly Detector\n",
    "mvg = MultivariateGaussian(epsilon=0.05**30)\n",
    "mvg.fit(train_set)"
   ]
  },
  {
   "cell_type": "code",
   "execution_count": null,
   "metadata": {},
   "outputs": [],
   "source": [
    "# Evaluating on the Dev set\n",
    "mvg_y_dev_preds = mvg.predict(dev_set)\n",
    "print('Recall score:\\n', recall_score(y_dev_set, mvg_y_dev_preds))\n",
    "print('Precision score:\\n', precision_score(y_dev_set, mvg_y_dev_preds))\n",
    "print('Confusion matrix:\\n', confusion_matrix(y_dev_set, mvg_y_dev_preds))"
   ]
  },
  {
   "cell_type": "code",
   "execution_count": null,
   "metadata": {},
   "outputs": [],
   "source": [
    "# Training Multivariate T Anomaly Detector\n",
    "mvt = MultivariateTDistribution(epsilon=0.05**30, df=3)\n",
    "mvt.fit(train_set)"
   ]
  },
  {
   "cell_type": "code",
   "execution_count": null,
   "metadata": {},
   "outputs": [],
   "source": [
    "# Evaluating on the Dev Set\n",
    "mvt_y_dev_preds = mvt.predict(dev_set)\n",
    "print('Recall score:\\n', recall_score(y_dev_set, mvt_y_dev_preds))\n",
    "print('Precision score:\\n', precision_score(y_dev_set, mvt_y_dev_preds))\n",
    "print('Confusion matrix:\\n', confusion_matrix(y_dev_set, mvt_y_dev_preds))"
   ]
  },
  {
   "cell_type": "code",
   "execution_count": null,
   "metadata": {},
   "outputs": [],
   "source": [
    "# Training Local Outlier Factor Anomaly Detector\n",
    "lof = LocalOutlierFactor(novelty=True, metric='euclidean')\n",
    "lof.fit(train_set)"
   ]
  },
  {
   "cell_type": "code",
   "execution_count": null,
   "metadata": {},
   "outputs": [],
   "source": [
    "# Evaluating on the Dev set\n",
    "lof_y_dev_preds = lof.predict(dev_set)\n",
    "lof_y_dev_preds[lof_y_dev_preds==1] = 0\n",
    "lof_y_dev_preds[lof_y_dev_preds==-1] = 1\n",
    "print('Recall score:\\n', recall_score(y_dev_set, lof_y_dev_preds))\n",
    "print('Precision score:\\n', precision_score(y_dev_set, lof_y_dev_preds))\n",
    "print('Confusion matrix:\\n', confusion_matrix(y_dev_set, lof_y_dev_preds))"
   ]
  },
  {
   "cell_type": "code",
   "execution_count": 5,
   "metadata": {
    "scrolled": true
   },
   "outputs": [
    {
     "name": "stderr",
     "output_type": "stream",
     "text": [
      "C:\\Users\\ZH834BT\\AppData\\Local\\Continuum\\anaconda3\\lib\\site-packages\\sklearn\\ensemble\\iforest.py:237: FutureWarning: default contamination parameter 0.1 will change in version 0.22 to \"auto\". This will change the predict method behavior.\n",
      "  FutureWarning)\n",
      "C:\\Users\\ZH834BT\\AppData\\Local\\Continuum\\anaconda3\\lib\\site-packages\\sklearn\\ensemble\\iforest.py:247: FutureWarning: behaviour=\"old\" is deprecated and will be removed in version 0.22. Please use behaviour=\"new\", which makes the decision_function change to match other anomaly detection algorithm API.\n",
      "  FutureWarning)\n"
     ]
    },
    {
     "data": {
      "text/plain": [
       "IsolationForest(behaviour='old', bootstrap=False, contamination='legacy',\n",
       "                max_features=1.0, max_samples='auto', n_estimators=100,\n",
       "                n_jobs=None, random_state=42, verbose=0, warm_start=False)"
      ]
     },
     "execution_count": 5,
     "metadata": {},
     "output_type": "execute_result"
    }
   ],
   "source": [
    "# Training Isolation Forest Anomaly Detector\n",
    "ifr = IsolationForest(random_state=42)\n",
    "ifr.fit(train_set)"
   ]
  },
  {
   "cell_type": "code",
   "execution_count": 6,
   "metadata": {},
   "outputs": [
    {
     "name": "stderr",
     "output_type": "stream",
     "text": [
      "C:\\Users\\ZH834BT\\AppData\\Local\\Continuum\\anaconda3\\lib\\site-packages\\sklearn\\ensemble\\iforest.py:415: DeprecationWarning: threshold_ attribute is deprecated in 0.20 and will be removed in 0.22.\n",
      "  \" be removed in 0.22.\", DeprecationWarning)\n"
     ]
    },
    {
     "name": "stdout",
     "output_type": "stream",
     "text": [
      "Recall score:\n",
      " 0.8861788617886179\n",
      "Precision score:\n",
      " 0.06982703395259449\n",
      "Confusion matrix:\n",
      " [[25527  2904]\n",
      " [   28   218]]\n"
     ]
    }
   ],
   "source": [
    "# Evaluating on the Dev Set\n",
    "ifr_y_dev_preds = ifr.predict(dev_set)\n",
    "ifr_y_dev_preds[ifr_y_dev_preds==1] = 0\n",
    "ifr_y_dev_preds[ifr_y_dev_preds==-1] = 1\n",
    "print('Recall score:\\n', recall_score(y_dev_set, ifr_y_dev_preds))\n",
    "print('Precision score:\\n', precision_score(y_dev_set, ifr_y_dev_preds))\n",
    "print('Confusion matrix:\\n', confusion_matrix(y_dev_set, ifr_y_dev_preds))"
   ]
  },
  {
   "cell_type": "code",
   "execution_count": 16,
   "metadata": {},
   "outputs": [
    {
     "name": "stderr",
     "output_type": "stream",
     "text": [
      "C:\\Users\\ZH834BT\\AppData\\Local\\Continuum\\anaconda3\\lib\\site-packages\\sklearn\\ensemble\\iforest.py:237: FutureWarning: default contamination parameter 0.1 will change in version 0.22 to \"auto\". This will change the predict method behavior.\n",
      "  FutureWarning)\n",
      "C:\\Users\\ZH834BT\\AppData\\Local\\Continuum\\anaconda3\\lib\\site-packages\\sklearn\\ensemble\\iforest.py:247: FutureWarning: behaviour=\"old\" is deprecated and will be removed in version 0.22. Please use behaviour=\"new\", which makes the decision_function change to match other anomaly detection algorithm API.\n",
      "  FutureWarning)\n",
      "C:\\Users\\ZH834BT\\AppData\\Local\\Continuum\\anaconda3\\lib\\site-packages\\sklearn\\ensemble\\iforest.py:415: DeprecationWarning: threshold_ attribute is deprecated in 0.20 and will be removed in 0.22.\n",
      "  \" be removed in 0.22.\", DeprecationWarning)\n"
     ]
    },
    {
     "name": "stdout",
     "output_type": "stream",
     "text": [
      "Recall score:\n",
      " 0.9065040650406504\n",
      "Precision score:\n",
      " 0.015659562515361117\n",
      "Confusion matrix:\n",
      " [[256280  28035]\n",
      " [    46    446]]\n"
     ]
    }
   ],
   "source": [
    "# Trying out Isolation Forest on contaminated dataset\n",
    "ifr_2 = IsolationForest(random_state=42)\n",
    "ifr_2_y_preds = ifr_2.fit_predict(original_data)\n",
    "ifr_2_y_preds[ifr_2_y_preds==1] = 0\n",
    "ifr_2_y_preds[ifr_2_y_preds==-1] = 1\n",
    "print('Recall score:\\n', recall_score(y_data, ifr_2_y_preds))\n",
    "print('Precision score:\\n', precision_score(y_data, ifr_2_y_preds))\n",
    "print('Confusion matrix:\\n', confusion_matrix(y_data, ifr_2_y_preds))"
   ]
  }
 ],
 "metadata": {
  "kernelspec": {
   "display_name": "Python 3",
   "language": "python",
   "name": "python3"
  },
  "language_info": {
   "codemirror_mode": {
    "name": "ipython",
    "version": 3
   },
   "file_extension": ".py",
   "mimetype": "text/x-python",
   "name": "python",
   "nbconvert_exporter": "python",
   "pygments_lexer": "ipython3",
   "version": "3.7.4"
  }
 },
 "nbformat": 4,
 "nbformat_minor": 2
}
